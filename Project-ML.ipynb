{
 "cells": [
  {
   "cell_type": "markdown",
   "id": "84867085-7d6c-4127-a344-038dc8fb702a",
   "metadata": {},
   "source": [
    "1. Loading and Preprocessing"
   ]
  },
  {
   "cell_type": "code",
   "execution_count": 1,
   "id": "1e9237dc-d91e-48f2-a021-e75bcb9516e3",
   "metadata": {},
   "outputs": [
    {
     "name": "stdout",
     "output_type": "stream",
     "text": [
      "   car_ID  symboling                   CarName fueltype aspiration doornumber  \\\n",
      "0       1          3        alfa-romero giulia      gas        std        two   \n",
      "1       2          3       alfa-romero stelvio      gas        std        two   \n",
      "2       3          1  alfa-romero Quadrifoglio      gas        std        two   \n",
      "3       4          2               audi 100 ls      gas        std       four   \n",
      "4       5          2                audi 100ls      gas        std       four   \n",
      "\n",
      "       carbody drivewheel enginelocation  wheelbase  ...  enginesize  \\\n",
      "0  convertible        rwd          front       88.6  ...         130   \n",
      "1  convertible        rwd          front       88.6  ...         130   \n",
      "2    hatchback        rwd          front       94.5  ...         152   \n",
      "3        sedan        fwd          front       99.8  ...         109   \n",
      "4        sedan        4wd          front       99.4  ...         136   \n",
      "\n",
      "   fuelsystem  boreratio  stroke compressionratio horsepower  peakrpm citympg  \\\n",
      "0        mpfi       3.47    2.68              9.0        111     5000      21   \n",
      "1        mpfi       3.47    2.68              9.0        111     5000      21   \n",
      "2        mpfi       2.68    3.47              9.0        154     5000      19   \n",
      "3        mpfi       3.19    3.40             10.0        102     5500      24   \n",
      "4        mpfi       3.19    3.40              8.0        115     5500      18   \n",
      "\n",
      "   highwaympg    price  \n",
      "0          27  13495.0  \n",
      "1          27  16500.0  \n",
      "2          26  16500.0  \n",
      "3          30  13950.0  \n",
      "4          22  17450.0  \n",
      "\n",
      "[5 rows x 26 columns]\n"
     ]
    }
   ],
   "source": [
    "import pandas as pd\n",
    "\n",
    "# Load the dataset\n",
    "df = pd.read_csv('CarPrice_Assignment.csv')\n",
    "\n",
    "# Display the first few rows of the dataframe\n",
    "print(df.head())"
   ]
  },
  {
   "cell_type": "markdown",
   "id": "e4c8fff5-578f-4721-af30-d87504415807",
   "metadata": {},
   "source": [
    "2. Model Implementation\n"
   ]
  },
  {
   "cell_type": "code",
   "execution_count": 2,
   "id": "708ead82-d8ca-4154-80ef-07511b6acc6e",
   "metadata": {},
   "outputs": [],
   "source": [
    "import pandas as pd\n",
    "from sklearn.model_selection import train_test_split\n",
    "from sklearn.linear_model import LinearRegression\n",
    "from sklearn.tree import DecisionTreeRegressor\n",
    "from sklearn.ensemble import RandomForestRegressor, GradientBoostingRegressor\n",
    "from sklearn.svm import SVR\n",
    "from sklearn.metrics import r2_score, mean_squared_error, mean_absolute_error\n"
   ]
  },
  {
   "cell_type": "code",
   "execution_count": 3,
   "id": "2db21b31-2e3f-4d40-84e5-825ffe210da7",
   "metadata": {},
   "outputs": [],
   "source": [
    "# Preprocessing\n",
    "# Convert categorical variables to dummy variables\n",
    "df = pd.get_dummies(df, drop_first=True)\n"
   ]
  },
  {
   "cell_type": "code",
   "execution_count": 4,
   "id": "8a984b53-0f86-407b-82c6-861eedb57952",
   "metadata": {},
   "outputs": [],
   "source": [
    "# Define the independent variables (features) and the dependent variable (target)\n",
    "X = df.drop(['car_ID', 'price'], axis=1)\n",
    "y = df['price']\n"
   ]
  },
  {
   "cell_type": "code",
   "execution_count": 5,
   "id": "6693b898-0428-4904-b4d8-c94f863feae0",
   "metadata": {},
   "outputs": [],
   "source": [
    "# Split the dataset into training and testing sets\n",
    "X_train, X_test, y_train, y_test = train_test_split(X, y, test_size=0.2, random_state=42)\n"
   ]
  },
  {
   "cell_type": "code",
   "execution_count": 6,
   "id": "2b4c4ac7-aa10-4625-8481-d6901b058d14",
   "metadata": {},
   "outputs": [],
   "source": [
    "# Initialize the models\n",
    "models = {\n",
    "    \"Linear Regression\": LinearRegression(),\n",
    "    \"Decision Tree Regressor\": DecisionTreeRegressor(random_state=42),\n",
    "    \"Random Forest Regressor\": RandomForestRegressor(random_state=42),\n",
    "    \"Gradient Boosting Regressor\": GradientBoostingRegressor(random_state=42),\n",
    "    \"Support Vector Regressor\": SVR()\n",
    "}\n"
   ]
  },
  {
   "cell_type": "code",
   "execution_count": 7,
   "id": "ef9b6da7-03cc-4e55-a7eb-e494a9de4cff",
   "metadata": {},
   "outputs": [],
   "source": [
    "# Train the models and evaluate their performance\n",
    "results = {}\n",
    "for model_name, model in models.items():\n",
    "    model.fit(X_train, y_train)\n",
    "    y_pred = model.predict(X_test)\n",
    "    results[model_name] = {\n",
    "        \"R-squared\": r2_score(y_test, y_pred),\n",
    "        \"Mean Squared Error\": mean_squared_error(y_test, y_pred),\n",
    "        \"Mean Absolute Error\": mean_absolute_error(y_test, y_pred)\n",
    "    }\n"
   ]
  },
  {
   "cell_type": "markdown",
   "id": "91f15023-f1a3-4c4c-93c1-db49c4ac06e5",
   "metadata": {},
   "source": [
    "3. Model Evaluation\n"
   ]
  },
  {
   "cell_type": "code",
   "execution_count": 8,
   "id": "f3bb6b8f-731f-40c2-8c38-ffe599a1411c",
   "metadata": {},
   "outputs": [
    {
     "name": "stdout",
     "output_type": "stream",
     "text": [
      "Linear Regression:\n",
      "  R-squared: 0.47371533157502776\n",
      "  Mean Squared Error: 41547027.85278472\n",
      "  Mean Absolute Error: 4177.29563135186\n",
      "Decision Tree Regressor:\n",
      "  R-squared: 0.855897691975291\n",
      "  Mean Squared Error: 11376015.613509487\n",
      "  Mean Absolute Error: 2200.1422682926827\n",
      "Random Forest Regressor:\n",
      "  R-squared: 0.9534566623613863\n",
      "  Mean Squared Error: 3674318.218351683\n",
      "  Mean Absolute Error: 1365.3525121951218\n",
      "Gradient Boosting Regressor:\n",
      "  R-squared: 0.9305972928856937\n",
      "  Mean Squared Error: 5478928.75953656\n",
      "  Mean Absolute Error: 1700.9865846172768\n",
      "Support Vector Regressor:\n",
      "  R-squared: -0.10198862586170465\n",
      "  Mean Squared Error: 86995413.0891717\n",
      "  Mean Absolute Error: 5707.166800883862\n"
     ]
    }
   ],
   "source": [
    "# Print the results\n",
    "for model_name, metrics in results.items():\n",
    "    print(f\"{model_name}:\")\n",
    "    for metric_name, metric_value in metrics.items():\n",
    "        print(f\"  {metric_name}: {metric_value}\")\n"
   ]
  },
  {
   "cell_type": "markdown",
   "id": "4dd739c5-098b-41e3-a73c-f64d198593ac",
   "metadata": {},
   "source": [
    "4. Feature Importance Analysis\n"
   ]
  },
  {
   "cell_type": "code",
   "execution_count": 10,
   "id": "07ebb4c8-0239-465b-82df-023466dd2ad6",
   "metadata": {},
   "outputs": [
    {
     "name": "stdout",
     "output_type": "stream",
     "text": [
      "             Feature  Importance\n",
      "6         enginesize    0.650279\n",
      "5         curbweight    0.192465\n",
      "13        highwaympg    0.057622\n",
      "10        horsepower    0.018789\n",
      "3           carwidth    0.012220\n",
      "2          carlength    0.007090\n",
      "9   compressionratio    0.006411\n",
      "12           citympg    0.006356\n",
      "1          wheelbase    0.005860\n",
      "11           peakrpm    0.005179\n"
     ]
    }
   ],
   "source": [
    "import pandas as pd\n",
    "from sklearn.ensemble import RandomForestRegressor\n",
    "\n",
    "# Load the dataset\n",
    "df = pd.read_csv('CarPrice_Assignment.csv')\n",
    "\n",
    "# Preprocessing\n",
    "df = pd.get_dummies(df, drop_first=True)\n",
    "\n",
    "# Define the independent variables (features) and the dependent variable (target)\n",
    "X = df.drop(['car_ID', 'price'], axis=1)\n",
    "y = df['price']\n",
    "\n",
    "# Train a Random Forest Regressor to get feature importances\n",
    "model = RandomForestRegressor(random_state=42)\n",
    "model.fit(X, y)\n",
    "\n",
    "# Get feature importances\n",
    "importances = model.feature_importances_\n",
    "feature_names = X.columns\n",
    "feature_importances = pd.DataFrame({'Feature': feature_names, 'Importance': importances})\n",
    "feature_importances = feature_importances.sort_values(by='Importance', ascending=False)\n",
    "\n",
    "# Print the feature importances\n",
    "print(feature_importances.head(10))"
   ]
  },
  {
   "cell_type": "markdown",
   "id": "6a4bef5d-1df5-4138-9c7b-1765aeef42ae",
   "metadata": {},
   "source": [
    "Visualize feature importance"
   ]
  },
  {
   "cell_type": "code",
   "execution_count": 12,
   "id": "2bc92394-da4f-4bdf-81b0-05363ea9cb2f",
   "metadata": {},
   "outputs": [
    {
     "data": {
      "image/png": "[encoded data removed]",
      "text/plain": [
       "<Figure size 1000x800 with 1 Axes>"
      ]
     },
     "metadata": {},
     "output_type": "display_data"
    }
   ],
   "source": [
    "import pandas as pd\n",
    "import matplotlib.pyplot as plt\n",
    "import seaborn as sns\n",
    "from sklearn.ensemble import RandomForestRegressor\n",
    "\n",
    "# Load the dataset\n",
    "df = pd.read_csv('CarPrice_Assignment.csv')\n",
    "\n",
    "# Preprocessing\n",
    "df = pd.get_dummies(df, drop_first=True)\n",
    "\n",
    "# Define the independent variables (features) and the dependent variable (target)\n",
    "X = df.drop(['car_ID', 'price'], axis=1)\n",
    "y = df['price']\n",
    "\n",
    "# Train a Random Forest Regressor to get feature importances\n",
    "model = RandomForestRegressor(random_state=42)\n",
    "model.fit(X, y)\n",
    "\n",
    "# Get feature importances\n",
    "importances = model.feature_importances_\n",
    "feature_names = X.columns\n",
    "feature_importances = pd.DataFrame({'Feature': feature_names, 'Importance': importances})\n",
    "feature_importances = feature_importances.sort_values(by='Importance', ascending=False)\n",
    "\n",
    "# Plot the feature importances\n",
    "plt.figure(figsize=(10, 8))\n",
    "sns.barplot(x='Importance', y='Feature', data=feature_importances.head(10))\n",
    "plt.title('Top 10 Feature Importances')\n",
    "plt.show()"
   ]
  },
  {
   "cell_type": "markdown",
   "id": "f90b7289-1f96-4106-9305-3d6819b33eb5",
   "metadata": {},
   "source": [
    "5. Hyperparameter Tuning\n"
   ]
  },
  {
   "cell_type": "code",
   "execution_count": 11,
   "id": "8d2c838d-e27a-4252-8ec6-3968095b713d",
   "metadata": {},
   "outputs": [
    {
     "name": "stdout",
     "output_type": "stream",
     "text": [
      "Best Model (Random Forest Regressor) after Hyperparameter Tuning:\n",
      "  R-squared: 0.9577733158858429\n",
      "  MSE: 3333544.232386725\n",
      "  MAE: 1287.900052845528\n"
     ]
    }
   ],
   "source": [
    "import pandas as pd\n",
    "from sklearn.model_selection import train_test_split, GridSearchCV\n",
    "from sklearn.ensemble import RandomForestRegressor\n",
    "from sklearn.metrics import r2_score, mean_squared_error, mean_absolute_error\n",
    "\n",
    "# Load the dataset\n",
    "df = pd.read_csv('CarPrice_Assignment.csv')\n",
    "\n",
    "# Preprocess the data\n",
    "df['CarName'] = df['CarName'].apply(lambda x: x.split(' ')[0])\n",
    "df = pd.get_dummies(df, drop_first=True)\n",
    "\n",
    "# Split the data into features and target variable\n",
    "X = df.drop(['car_ID', 'price'], axis=1)\n",
    "y = df['price']\n",
    "\n",
    "# Split the data into training and testing sets\n",
    "X_train, X_test, y_train, y_test = train_test_split(X, y, test_size=0.2, random_state=42)\n",
    "\n",
    "# Define the model and its hyperparameters for tuning\n",
    "model = RandomForestRegressor(random_state=42)\n",
    "params = {\n",
    "    'n_estimators': [100, 200],\n",
    "    'max_depth': [None, 10, 20],\n",
    "    'min_samples_split': [2, 10]\n",
    "}\n",
    "\n",
    "# Perform hyperparameter tuning using GridSearchCV\n",
    "grid_search = GridSearchCV(model, params, cv=5, scoring='r2')\n",
    "grid_search.fit(X_train, y_train)\n",
    "\n",
    "# Get the best model from grid search\n",
    "best_model = grid_search.best_estimator_\n",
    "\n",
    "# Evaluate the best model on the test set\n",
    "y_pred = best_model.predict(X_test)\n",
    "results = {\n",
    "    'R-squared': r2_score(y_test, y_pred),\n",
    "    'MSE': mean_squared_error(y_test, y_pred),\n",
    "    'MAE': mean_absolute_error(y_test, y_pred)\n",
    "}\n",
    "\n",
    "# Print the results\n",
    "print(\"Best Model (Random Forest Regressor) after Hyperparameter Tuning:\")\n",
    "for metric_name, value in results.items():\n",
    "    print(f\"  {metric_name}: {value}\")"
   ]
  },
  {
   "cell_type": "code",
   "execution_count": null,
   "id": "d818129e-8382-4c3c-a281-f7427dfeb1bc",
   "metadata": {},
   "outputs": [],
   "source": []
  }
 ],
 "metadata": {
  "kernelspec": {
   "display_name": "Python 3 (ipykernel)",
   "language": "python",
   "name": "python3"
  },
  "language_info": {
   "codemirror_mode": {
    "name": "ipython",
    "version": 3
   },
   "file_extension": ".py",
   "mimetype": "text/x-python",
   "name": "python",
   "nbconvert_exporter": "python",
   "pygments_lexer": "ipython3",
   "version": "3.12.7"
  }
 },
 "nbformat": 4,
 "nbformat_minor": 5
}
